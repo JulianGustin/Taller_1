{
 "cells": [
  {
   "cell_type": "markdown",
   "metadata": {},
   "source": [
    "# Puntos impares del Taller #1 de Programación de Computadores\n",
    "*** \n",
    "\n",
    "- Julián Gustín, Kevin Castellanos y Lucas García"
   ]
  },
  {
   "cell_type": "markdown",
   "metadata": {},
   "source": [
    "***\n",
    "# Punto 3: Par o impar\n",
    "El siguiente programa permitirá determinar si un número es par o impar  \n"
   ]
  },
  {
   "cell_type": "code",
   "execution_count": null,
   "metadata": {},
   "outputs": [],
   "source": [
    "\n",
    "decimal_o_entero = input(\"Ingresará un número decimal o uno entero? (d/e): \")\n",
    "    \n",
    "match decimal_o_entero: \n",
    "    #Decimal\n",
    "    case \"d\": \n",
    "        n : float = input(\"Ingrese un número decimal: \")\n",
    "        print(\"Su número será asignado al entero menor a este.\")\n",
    "        import math \n",
    "        m = math.floor(float(n))\n",
    "        divisionSobreDos : float = float(m)%2\n",
    "        if divisionSobreDos == 0: \n",
    "            print(\"El número \", str(m), \"es par\")\n",
    "        else:\n",
    "            print(\"El número \", str(m), \"no es par\")\n",
    "    #Entero\n",
    "    case \"e\": \n",
    "        n: int = input(\"Ingrese un número entero: \")\n",
    "        divisionSobreDos : int = int(n)%2\n",
    "        if divisionSobreDos == 0: \n",
    "            print(\"El número \", str(n), \"es par\")\n",
    "        else:\n",
    "            print(\"El número \", str(n), \"no es par\")"
   ]
  },
  {
   "cell_type": "markdown",
   "metadata": {},
   "source": [
    "***\n",
    "# Punto 5\n"
   ]
  },
  {
   "cell_type": "code",
   "execution_count": null,
   "metadata": {},
   "outputs": [],
   "source": [
    "x: float\n",
    "y: float\n",
    "z: float\n",
    "sum: float\n",
    "\n",
    "print(\"Hola amigo, voy a hacer una comparación y para ello necesito que digites 2 números inicialmente\")\n",
    "\n",
    "x = float(input(\"Digita el primero: \"))\n",
    "y = float(input(\"Ahora el segundo: \"))\n",
    "sum = x + y\n",
    "\n",
    "print(\"La suma de tus números es:\", sum)\n",
    "z = float(input(\"Genial, ahora para comparar la suma de los anteriores con este digita otro número: \"))\n",
    "\n",
    "if sum < z:\n",
    "    print(\"¡Vaya!, la suma de los dos primeros números es menor que el tercero\")\n",
    "elif z == sum:\n",
    "    print(\"Increible, el tercer número resultó ser igual a la suma de los anteriores\")\n",
    "else:\n",
    "    print(\"Ja Ja Ja, cómo era de esperarse la suma de los dos primeros es mayor que el tercero\")"
   ]
  },
  {
   "cell_type": "markdown",
   "metadata": {},
   "source": [
    "***\n",
    "# Punto n° 7: operaciones\n",
    "## Se deberá encontrar: \n",
    "- [El promedio](#promedio)\n",
    "- [La mediana](#mediana)\n",
    "- [El promedio multiplicativo](#Promedio_Multiplicativo)\n",
    "- [Ordenar los números de forma ascendente](#ascendente)\n",
    "- [Ordenar los números de forma descendente](#descendente)\n",
    "- [La potencia del mayor número elevado al menor número](#potencia)\n",
    "- [La raíz cúbica del menor número](#raiz)\n",
    "\n",
    "Para esto, primero se pedirá ingresar 5 números reales: "
   ]
  },
  {
   "cell_type": "code",
   "execution_count": null,
   "metadata": {},
   "outputs": [],
   "source": [
    "print(\"Se le pedirá que ingrese 5 números reales: \")\n",
    "n1 = float(input(\"Ingrese el primer número: \"))\n",
    "n2 = float(input(\"Ingrese el segundo número: \"))\n",
    "n3 = float(input(\"Ingrese el tercer número: \"))\n",
    "n4 = float(input(\"Ingrese el cuarto número: \"))\n",
    "n5 = float(input(\"Ingrese el quinto número: \"))\n",
    "print(\"Sus números son: \",n1,n2,n3,n4,n5)"
   ]
  },
  {
   "cell_type": "markdown",
   "metadata": {},
   "source": [
    "## Promedio"
   ]
  },
  {
   "cell_type": "code",
   "execution_count": null,
   "metadata": {},
   "outputs": [],
   "source": [
    "promedio : float = (n1+n2+n3+n4+n5)/5\n",
    "print(\"El promedio de los números es: \", promedio)"
   ]
  },
  {
   "cell_type": "markdown",
   "metadata": {},
   "source": [
    "## Mediana"
   ]
  },
  {
   "cell_type": "code",
   "execution_count": null,
   "metadata": {},
   "outputs": [],
   "source": [
    "if n1 > n2:\n",
    "    n1, n2 = n2, n1\n",
    "if n1 > n3:\n",
    "    n1, n3 = n3, n1\n",
    "if n1 > n4:\n",
    "    n1, n4 = n4, n1\n",
    "if n1 > n5:\n",
    "    n1, n5 = n5, n1\n",
    "if n2 > n3:\n",
    "    n2, n3 = n3, n2\n",
    "if n2 > n4:\n",
    "    n2, n4 = n4, n2\n",
    "if n2 > n5:\n",
    "    n2, n5 = n5, n2\n",
    "if n3 > n4:\n",
    "    n3, n4 = n4, n3\n",
    "if n3 > n5:\n",
    "    n3, n5 = n5, n3\n",
    "if n4 > n5:\n",
    "    n4, n5 = n5, n4\n",
    "\n",
    "print(\"La mediana del conjunto es \", n3)"
   ]
  },
  {
   "cell_type": "markdown",
   "metadata": {},
   "source": [
    "## Promedio_Multiplicativo"
   ]
  },
  {
   "cell_type": "code",
   "execution_count": null,
   "metadata": {},
   "outputs": [],
   "source": [
    "multi : float = n1*n2*n3*n4*n5\n",
    "\n",
    "promedioMulti = multi**(1/5)\n",
    "print(\"El promedio multiplicativo es \", promedioMulti)"
   ]
  },
  {
   "cell_type": "markdown",
   "metadata": {},
   "source": [
    "## Ascendente"
   ]
  },
  {
   "cell_type": "code",
   "execution_count": null,
   "metadata": {},
   "outputs": [],
   "source": [
    "print(\"La lista en orden ascendente es: \",n1,n2,n3,n4,n5)"
   ]
  },
  {
   "cell_type": "markdown",
   "metadata": {},
   "source": [
    "## Descendente"
   ]
  },
  {
   "cell_type": "code",
   "execution_count": null,
   "metadata": {},
   "outputs": [],
   "source": [
    "print(\"La lista en orden descendente es: \",n5,n4,n3,n2,n1)"
   ]
  },
  {
   "cell_type": "markdown",
   "metadata": {},
   "source": [
    "## Potencia"
   ]
  },
  {
   "cell_type": "code",
   "execution_count": null,
   "metadata": {},
   "outputs": [],
   "source": [
    "mayor : float = n5\n",
    "menor : float = n1 \n",
    "potencia = mayor**menor\n",
    "print(\"La potencia del mayor numero de la lista elevado al menor es: \", potencia )\n"
   ]
  },
  {
   "cell_type": "markdown",
   "metadata": {},
   "source": [
    "## Raiz\n"
   ]
  },
  {
   "cell_type": "code",
   "execution_count": null,
   "metadata": {},
   "outputs": [],
   "source": [
    "raiz = menor**(1/3)\n",
    "print(\"La raiz cubica del menor es: \", raiz)"
   ]
  },
  {
   "cell_type": "markdown",
   "metadata": {},
   "source": [
    "***\n",
    "# Punto 9"
   ]
  },
  {
   "cell_type": "code",
   "execution_count": null,
   "metadata": {},
   "outputs": [],
   "source": [
    "def x(y):\n",
    "    y = y.lower()\n",
    "    x = {\n",
    "    \"mexico\": \"Ciudad de México\",\n",
    "    \"argentina\": \"Buenos Aires\",\n",
    "    \"brasil\": \"Brasilia\",\n",
    "    \"chile\": \"Santiago\",\n",
    "    \"colombia\": \"Bogotá\",\n",
    "    \"peru\": \"Lima\",\n",
    "    \"canada\": \"Ottawa\",\n",
    "    \"estados_unidos\": \"Washington, D.C.\",\n",
    "    \"venezuela\": \"Caracas\",\n",
    "    \"ecuador\": \"Quito\",\n",
    "    \"bolivia\": \"La Paz\",\n",
    "    \"paraguay\": \"Asunción\",\n",
    "    \"uruguay\": \"Montevideo\",\n",
    "    \"guatemala\": \"Ciudad de Guatemala\",\n",
    "    \"honduras\": \"Tegucigalpa\",\n",
    "    \"nicaragua\": \"Managua\",\n",
    "    \"costa_rica\": \"San José\",\n",
    "    \"panama\": \"Ciudad de Panamá\",\n",
    "    \"el_salvador\": \"San Salvador\",\n",
    "    \"belice\": \"Belmopán\",\n",
    "    \"cuba\": \"La Habana\",\n",
    "    \"jamaica\": \"Kingston\",\n",
    "    \"haiti\": \"Puerto Príncipe\",\n",
    "    \"republica_dominicana\": \"Santo Domingo\",\n",
    "    \"bahamas\": \"Nasáu\",\n",
    "    \"trinidad_y_tobago\": \"Puerto España\",\n",
    "    \"barbados\": \"Bridgetown\",\n",
    "    \"antigua_y_barbuda\": \"Saint John's\",\n",
    "    \"santa_lucia\": \"Castries\",\n",
    "    \"granada\": \"Saint George\",\n",
    "    \"san_vicente\": \"Kingstown\",\n",
    "    \"dominica\": \"Roseau\",\n",
    "    \"saint_kitts_y_nevis\": \"Basseterre\",\n",
    "    \"surinam\": \"Paramaribo\",\n",
    "    \"guyana\": \"Georgetown\"}\n",
    "    \n",
    "    if y in x:\n",
    "      print (f\"La capital de {y} es {x[y]}\")\n",
    "    else:\n",
    "     print(\"País no identificado\")\n",
    "y = (input(\"Ingresa el nombre de un país de América: \"))\n",
    "z = x(y)"
   ]
  }
 ],
 "metadata": {
  "kernelspec": {
   "display_name": "Python 3",
   "language": "python",
   "name": "python3"
  },
  "language_info": {
   "codemirror_mode": {
    "name": "ipython",
    "version": 3
   },
   "file_extension": ".py",
   "mimetype": "text/x-python",
   "name": "python",
   "nbconvert_exporter": "python",
   "pygments_lexer": "ipython3",
   "version": "3.12.2"
  }
 },
 "nbformat": 4,
 "nbformat_minor": 2
}
